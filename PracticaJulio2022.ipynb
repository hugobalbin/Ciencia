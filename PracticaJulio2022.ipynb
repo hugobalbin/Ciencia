{
    "cells": [
        {
            "cell_type": "code",
            "execution_count": 1,
            "metadata": {},
            "outputs": [
                {
                    "name": "stdout",
                    "output_type": "stream",
                    "text": "\u00bfCu\u00e1l es tu ingreso mensual? 5500000\nTienes que pagar $440000.0\n"
                }
            ],
            "source": "# Preguntar al usuario por su ingreso mensual\ningreso = float(input(\"\u00bfCu\u00e1l es tu ingreso mensual? \"))\n# Condicional para determinar el procentaje dependiendo del ingreso\nif ingreso < 1000000:\n    porcentaje = 2\nelif ingreso < 2000000:\n    porcentaje = 4\nelif ingreso < 3500000:\n    porcentaje = 6\nelif ingreso < 6000000:\n    porcentaje = 8\nelse:\n    porcentaje = 10\n# Mostrar por pantalla el valor a pagar\nprint(\"Tienes que pagar \", \"$\", ingreso * porcentaje / 100, sep='')"
        },
        {
            "cell_type": "code",
            "execution_count": null,
            "metadata": {},
            "outputs": [],
            "source": ""
        }
    ],
    "metadata": {
        "kernelspec": {
            "display_name": "Python 3.8 Watson NLP",
            "language": "python",
            "name": "python3"
        },
        "language_info": {
            "codemirror_mode": {
                "name": "ipython",
                "version": 3
            },
            "file_extension": ".py",
            "mimetype": "text/x-python",
            "name": "python",
            "nbconvert_exporter": "python",
            "pygments_lexer": "ipython3",
            "version": "3.8.11"
        }
    },
    "nbformat": 4,
    "nbformat_minor": 1
}