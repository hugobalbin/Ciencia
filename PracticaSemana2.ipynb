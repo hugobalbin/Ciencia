{
    "cells": [
        {
            "cell_type": "markdown",
            "metadata": {
                "collapsed": true
            },
            "source": "# My Jupyter Notebook on IBM Watson Studio"
        },
        {
            "cell_type": "markdown",
            "metadata": {},
            "source": "**Hugo Alexander Balb\u00edn Espinal**\n<P> **Ingeniero de Sistemas**\n"
        },
        {
            "cell_type": "markdown",
            "metadata": {},
            "source": "<i>Estoy interesado en la Data Science porque, en la actualidad la informaci\u00f3n es el activo m\u00e1s importante en todas las organizaciones y la ciencia de datos permite que se puedan tomar los datos y volverlos informaci\u00f3n de importancia para la toma de decisiones. Adem\u00e1s, porque me va a permitir adquirir nuevas habilidades para utilizar en donde trabajo.</i>"
        },
        {
            "cell_type": "markdown",
            "metadata": {},
            "source": "### El c\u00f3digo lo que hace es calcular un porcentaje dependiendo del valor ingresado."
        },
        {
            "cell_type": "code",
            "execution_count": 2,
            "metadata": {},
            "outputs": [
                {
                    "name": "stdout",
                    "output_type": "stream",
                    "text": "\u00bfCu\u00e1l es tu ingreso mensual? 1500000\nTienes que pagar $60000.0\n"
                }
            ],
            "source": "# Preguntar al usuario por su ingreso mensual\ningreso = float(input(\"\u00bfCu\u00e1l es tu ingreso mensual? \"))\n# Condicional para determinar el porcentaje dependiendo del ingreso\nif ingreso < 1000000:\n    porcentaje = 2\nelif ingreso < 2000000:\n    porcentaje = 4\nelif ingreso < 3500000:\n    porcentaje = 6\nelif ingreso < 6000000:\n    porcentaje = 8\nelse:\n    porcentaje = 10\n# Mostrar por pantalla el valor a pagar\nprint(\"Tienes que pagar \", \"$\", ingreso * porcentaje / 100, sep='')\n"
        },
        {
            "cell_type": "markdown",
            "metadata": {},
            "source": "# Crear guiones\n\n- Vi\u00f1eta 1\n-- Vi\u00f1eta A\n- Vi\u00f1eta 2\n-- Vi\u00f1eta A\n- Vi\u00f1eta 3\n-- Vi\u00f1eta A\n- Vi\u00f1eta 4\n-- Vi\u00f1eta A\n\n#L\u00ednea horizontal\n---\n\n\n# Tabla\n|Nombre|Apellido|Salario|\n|------|--------|-------|\n|Hugo|Balbin|100|\n|Juan|Balbin|150|\n|Luz|Villa|150|\n\n\n# Sangria\n \n\n> Notebooks\n>> code\n>> markdown\n>>> etiquetas\n>> HTML\n\n"
        },
        {
            "cell_type": "code",
            "execution_count": null,
            "metadata": {},
            "outputs": [],
            "source": ""
        }
    ],
    "metadata": {
        "kernelspec": {
            "display_name": "Python 3.9",
            "language": "python",
            "name": "python3"
        },
        "language_info": {
            "codemirror_mode": {
                "name": "ipython",
                "version": 3
            },
            "file_extension": ".py",
            "mimetype": "text/x-python",
            "name": "python",
            "nbconvert_exporter": "python",
            "pygments_lexer": "ipython3",
            "version": "3.9.12"
        }
    },
    "nbformat": 4,
    "nbformat_minor": 1
}